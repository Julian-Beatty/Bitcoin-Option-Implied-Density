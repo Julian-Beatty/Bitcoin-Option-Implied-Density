{
 "cells": [
  {
   "cell_type": "code",
   "execution_count": null,
   "id": "e49d400e-6960-4bcd-8ced-ab9cc267bd02",
   "metadata": {},
   "outputs": [
    {
     "name": "stderr",
     "output_type": "stream",
     "text": [
      "D:\\Bitcoin-Option-Implied-Density\\create_yield_curve.py:10: DtypeWarning: Columns (1,2,3,4,5,6,7,8,9,10,11,12,13,14,15,16,17,18,19,20,21,22,23,24,25,26,27,28,29,30,31,32,33,34,35,36,37,38,39,40,41,42,43,44,45,46,47,48,49,50,51,52,53,54,55,56,57,58,59,60,61,62,63,64,65,66,67,68,69,70,71,72,73,74,75,76,77,78,79,80,81,82,83,84,85,86,87,88,89,90,91,92,93,94,95,96,97,98,99) have mixed types. Specify dtype option on import or set low_memory=False.\n",
      "  fed_sheet=pd.read_csv(fed_yield_curve)\n",
      "D:\\Bitcoin-Option-Implied-Density\\create_yield_curve.py:79: RuntimeWarning: invalid value encountered in scalar divide\n",
      "  spot_rate = integral / T\n"
     ]
    },
    {
     "name": "stdout",
     "output_type": "stream",
     "text": [
      "this is 2024-11-01 00:00:00\n",
      "this is 2024-11-04 00:00:00\n",
      "this is 2024-11-05 00:00:00\n",
      "this is 2024-11-06 00:00:00\n",
      "this is 2024-11-07 00:00:00\n",
      "this is 2024-11-08 00:00:00\n",
      "this is 2024-11-12 00:00:00\n",
      "this is 2024-11-13 00:00:00\n",
      "this is 2024-11-14 00:00:00\n",
      "this is 2024-11-15 00:00:00\n",
      "this is 2024-11-18 00:00:00\n",
      "this is 2024-11-19 00:00:00\n",
      "this is 2024-11-20 00:00:00\n",
      "this is 2024-11-21 00:00:00\n",
      "this is 2024-11-22 00:00:00\n",
      "this is 2024-11-25 00:00:00\n",
      "this is 2024-11-26 00:00:00\n",
      "this is 2024-11-27 00:00:00\n",
      "this is 2024-11-29 00:00:00\n",
      "this is 2024-12-02 00:00:00\n",
      "this is 2024-12-03 00:00:00\n",
      "this is 2024-12-04 00:00:00\n",
      "this is 2024-12-05 00:00:00\n",
      "this is 2024-12-06 00:00:00\n",
      "this is 2024-12-09 00:00:00\n",
      "this is 2024-12-10 00:00:00\n",
      "this is 2024-12-11 00:00:00\n",
      "this is 2024-12-12 00:00:00\n",
      "this is 2024-12-13 00:00:00\n",
      "We have successfully loaded and merged all CSV files beginning with 'btc_eod' in your working directory. Storing in object.\n",
      "----------------------------------------\n",
      "We have successfully loaded the stock data files beginning with 'bitcoin_10' in your working directory.\n",
      "----------------------------------------\n",
      "We are now merging option, yield curve and stock data\n",
      "We have successfully loaded and merged all CSV files beginning with 'btc_eod' in your working directory. Storing in object.\n",
      "----------------------------------------\n",
      "We are averaging bitcoin futures\n",
      "----------------------------------------\n",
      "Converting puts to calls. If both are present we use only OTM options.\n",
      "----------------------------------------\n",
      "We are Aggregating duplicate option entries\n",
      "----------------------------------------\n",
      "We believe this data is end of day quotes for bitcoin options from Options_DX\n"
     ]
    }
   ],
   "source": [
    "%run testeexample.py"
   ]
  },
  {
   "cell_type": "code",
   "execution_count": null,
   "id": "535f9302-3ddb-4636-ae47-1721ddfb6d6f",
   "metadata": {},
   "outputs": [],
   "source": []
  }
 ],
 "metadata": {
  "kernelspec": {
   "display_name": "Python (bitcoin)",
   "language": "python",
   "name": "bitcoin"
  },
  "language_info": {
   "codemirror_mode": {
    "name": "ipython",
    "version": 3
   },
   "file_extension": ".py",
   "mimetype": "text/x-python",
   "name": "python",
   "nbconvert_exporter": "python",
   "pygments_lexer": "ipython3",
   "version": "3.9.21"
  }
 },
 "nbformat": 4,
 "nbformat_minor": 5
}
